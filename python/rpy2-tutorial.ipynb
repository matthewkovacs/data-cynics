{
 "cells": [
  {
   "cell_type": "code",
   "execution_count": 1,
   "metadata": {},
   "outputs": [],
   "source": [
    "# No warnings please\n",
    "import warnings\n",
    "warnings.filterwarnings('ignore')"
   ]
  },
  {
   "cell_type": "markdown",
   "metadata": {},
   "source": [
    "# Blending R with Python\n",
    "\n",
    "An example on how to properly use `rpy2` with Jupyter Notebooks.  \n",
    "\n",
    "This example uses the ubiquitous iris dataset just because it is easily available to everyone with `Scikit-learn` installed.  I mean to say that the iris dataset is used here only because it's easy to import and everyone has it already.  I know it's not interesting.\n",
    "\n",
    "\n",
    "First let's import some useful Python libraries:"
   ]
  },
  {
   "cell_type": "code",
   "execution_count": 2,
   "metadata": {},
   "outputs": [],
   "source": [
    "import pandas as pd\n",
    "\n",
    "from sklearn import datasets"
   ]
  },
  {
   "cell_type": "markdown",
   "metadata": {},
   "source": [
    "Tell Jupyter to load rpy2:"
   ]
  },
  {
   "cell_type": "code",
   "execution_count": 3,
   "metadata": {},
   "outputs": [],
   "source": [
    "%load_ext rpy2.ipython"
   ]
  },
  {
   "cell_type": "markdown",
   "metadata": {},
   "source": [
    "## Load Data\n",
    "\n",
    "Load the boring dataset that we're all sick of for tutorial purposes:"
   ]
  },
  {
   "cell_type": "code",
   "execution_count": 4,
   "metadata": {},
   "outputs": [
    {
     "data": {
      "text/html": [
       "<div>\n",
       "<style scoped>\n",
       "    .dataframe tbody tr th:only-of-type {\n",
       "        vertical-align: middle;\n",
       "    }\n",
       "\n",
       "    .dataframe tbody tr th {\n",
       "        vertical-align: top;\n",
       "    }\n",
       "\n",
       "    .dataframe thead th {\n",
       "        text-align: right;\n",
       "    }\n",
       "</style>\n",
       "<table border=\"1\" class=\"dataframe\">\n",
       "  <thead>\n",
       "    <tr style=\"text-align: right;\">\n",
       "      <th></th>\n",
       "      <th>sepal length (cm)</th>\n",
       "      <th>sepal width (cm)</th>\n",
       "      <th>petal length (cm)</th>\n",
       "      <th>petal width (cm)</th>\n",
       "    </tr>\n",
       "  </thead>\n",
       "  <tbody>\n",
       "    <tr>\n",
       "      <th>0</th>\n",
       "      <td>5.1</td>\n",
       "      <td>3.5</td>\n",
       "      <td>1.4</td>\n",
       "      <td>0.2</td>\n",
       "    </tr>\n",
       "    <tr>\n",
       "      <th>1</th>\n",
       "      <td>4.9</td>\n",
       "      <td>3.0</td>\n",
       "      <td>1.4</td>\n",
       "      <td>0.2</td>\n",
       "    </tr>\n",
       "    <tr>\n",
       "      <th>2</th>\n",
       "      <td>4.7</td>\n",
       "      <td>3.2</td>\n",
       "      <td>1.3</td>\n",
       "      <td>0.2</td>\n",
       "    </tr>\n",
       "    <tr>\n",
       "      <th>3</th>\n",
       "      <td>4.6</td>\n",
       "      <td>3.1</td>\n",
       "      <td>1.5</td>\n",
       "      <td>0.2</td>\n",
       "    </tr>\n",
       "    <tr>\n",
       "      <th>4</th>\n",
       "      <td>5.0</td>\n",
       "      <td>3.6</td>\n",
       "      <td>1.4</td>\n",
       "      <td>0.2</td>\n",
       "    </tr>\n",
       "  </tbody>\n",
       "</table>\n",
       "</div>"
      ],
      "text/plain": [
       "   sepal length (cm)  sepal width (cm)  petal length (cm)  petal width (cm)\n",
       "0                5.1               3.5                1.4               0.2\n",
       "1                4.9               3.0                1.4               0.2\n",
       "2                4.7               3.2                1.3               0.2\n",
       "3                4.6               3.1                1.5               0.2\n",
       "4                5.0               3.6                1.4               0.2"
      ]
     },
     "execution_count": 4,
     "metadata": {},
     "output_type": "execute_result"
    }
   ],
   "source": [
    "iris = datasets.load_iris()\n",
    "\n",
    "# Convert it's data aspects to a pandas dataframe\n",
    "iris = pd.DataFrame(data=iris.data, columns=iris.feature_names)\n",
    "\n",
    "# Let's grab a glimpse of these warlocks\n",
    "iris.head(5)"
   ]
  },
  {
   "cell_type": "markdown",
   "metadata": {},
   "source": [
    "## Push Data from Python to R\n",
    "\n",
    "You loaded a dataset, big deal?\n",
    "\n",
    "Yea well hold your horses cowboy.  Now we're going to move it from Python into R."
   ]
  },
  {
   "cell_type": "code",
   "execution_count": 5,
   "metadata": {},
   "outputs": [
    {
     "data": {
      "text/plain": [
       "[1] \"list\"\n",
       "  sepal.length..cm. sepal.width..cm. petal.length..cm. petal.width..cm.\n",
       "0               5.1              3.5               1.4              0.2\n",
       "1               4.9              3.0               1.4              0.2\n",
       "2               4.7              3.2               1.3              0.2\n",
       "3               4.6              3.1               1.5              0.2\n",
       "4               5.0              3.6               1.4              0.2\n",
       "5               5.4              3.9               1.7              0.4\n"
      ]
     },
     "metadata": {},
     "output_type": "display_data"
    }
   ],
   "source": [
    "%%R -i iris\n",
    "\n",
    "# Get the type of the iris object\n",
    "print(typeof(iris))\n",
    "\n",
    "# Show me the money\n",
    "head(iris)"
   ]
  },
  {
   "cell_type": "markdown",
   "metadata": {},
   "source": [
    "Did you see what just happened?  The `%%R` notation at the head of a Jupyter cell notes that the entire cell should be executed with R.  \n",
    "\n",
    "The `-i` parameter tells Jupyter to push an object from our Notebook kernel language, Python, into the language of the current cell, R.\n",
    "\n",
    "We imported the Python pandas dataframe object `iris`, and called functions from R on the now R object `iris`."
   ]
  },
  {
   "cell_type": "markdown",
   "metadata": {},
   "source": [
    "## Now Do Something Interesting\n",
    "\n",
    "Fit a line using R:"
   ]
  },
  {
   "cell_type": "code",
   "execution_count": 6,
   "metadata": {},
   "outputs": [
    {
     "data": {
      "text/plain": [
       "\n",
       "Call:\n",
       "lm(formula = petal.width..cm. ~ petal.length..cm., data = iris)\n",
       "\n",
       "Residuals:\n",
       "     Min       1Q   Median       3Q      Max \n",
       "-0.56543 -0.12409 -0.01647  0.13251  0.64278 \n",
       "\n",
       "Coefficients:\n",
       "                   Estimate Std. Error t value Pr(>|t|)    \n",
       "(Intercept)       -0.366514   0.039889  -9.188 3.35e-16 ***\n",
       "petal.length..cm.  0.416419   0.009613  43.320  < 2e-16 ***\n",
       "---\n",
       "Signif. codes:  0 ‘***’ 0.001 ‘**’ 0.01 ‘*’ 0.05 ‘.’ 0.1 ‘ ’ 1\n",
       "\n",
       "Residual standard error: 0.207 on 148 degrees of freedom\n",
       "Multiple R-squared:  0.9269,\tAdjusted R-squared:  0.9264 \n",
       "F-statistic:  1877 on 1 and 148 DF,  p-value: < 2.2e-16\n",
       "\n"
      ]
     },
     "metadata": {},
     "output_type": "display_data"
    }
   ],
   "source": [
    "%%R -o lr_fit\n",
    "\n",
    "lr_fit <- lm(petal.width..cm. ~ petal.length..cm., data=iris)\n",
    "summary(lr_fit)"
   ]
  },
  {
   "cell_type": "markdown",
   "metadata": {},
   "source": [
    "We moved the results of our linear regression back to Python with the `-o` *output* cell magic parameter."
   ]
  },
  {
   "cell_type": "code",
   "execution_count": 7,
   "metadata": {},
   "outputs": [
    {
     "name": "stdout",
     "output_type": "stream",
     "text": [
      "\n",
      "Call:\n",
      "lm(formula = petal.width..cm. ~ petal.length..cm., data = iris)\n",
      "\n",
      "Coefficients:\n",
      "      (Intercept)  petal.length..cm.  \n",
      "          -0.3665             0.4164  \n",
      "\n",
      "\n",
      "The equation for our line is: \n",
      "y = 0.42x - 0.37 \n",
      "\n",
      "Where y is the petal width and x is the petal length.\n"
     ]
    }
   ],
   "source": [
    "print(lr_fit)\n",
    "\n",
    "# Define coefficient variables\n",
    "x, b = lr_fit[0][1], lr_fit[0][0] * (-1)\n",
    "\n",
    "# Round numbers for readability\n",
    "coeff = [round(n, 2) for n in [x, b]]\n",
    "\n",
    "print(\"The equation for our line is: \\n\" + \n",
    "      \"y = {}x - {} \\n\\n\".format(coeff[0], coeff[1]) +\n",
    "      \"Where y is the petal width and x is the petal length.\")"
   ]
  },
  {
   "cell_type": "markdown",
   "metadata": {},
   "source": [
    "## Create Plots\n",
    "\n",
    "Truth be told, `matplotlib`'s peasant plots are digusting when compared to `ggplot`'s grandeur.\n",
    "\n",
    "With `rpy2` and a pinch of `cell magic` you will never have to settle."
   ]
  },
  {
   "cell_type": "markdown",
   "metadata": {},
   "source": [
    "&nbsp;\n",
    "\n",
    "\"*I would really rather not use matplotlib*\"\n",
    "\n",
    "    -Bartleby the Scatterplotter"
   ]
  },
  {
   "cell_type": "code",
   "execution_count": 8,
   "metadata": {},
   "outputs": [
    {
     "data": {
      "image/png": "[encoded data removed]"
     },
     "metadata": {},
     "output_type": "display_data"
    }
   ],
   "source": [
    "%%R -w 420 -h 420 -u px\n",
    "\n",
    "library(ggplot2)\n",
    "\n",
    "ggplot(data=iris, aes(x=petal.width..cm., y=petal.length..cm.)) + \n",
    "    geom_point(color='purple1') +\n",
    "    geom_smooth(method='lm')"
   ]
  },
  {
   "cell_type": "markdown",
   "metadata": {},
   "source": [
    "The parameters we pass to the rmagic function can indicate size of the output plot in our notebook.  \n",
    "\n",
    "Read only if you're dumb: The `-w` stands for width, `-h` stands for height, and `-u px` instructs that our units of measurement for previous 2 values is in pixels.\n",
    "\n",
    "Take notice that we also imported the `ggplot2` library in the previous cell.  You can import any library available to your R installation.  You can also import your own R scripts and execute custom R functions.  That is what we the business like to call a \"pro move\"."
   ]
  },
  {
   "cell_type": "markdown",
   "metadata": {},
   "source": [
    "## Note to the Haters\n",
    "\n",
    "**What's the utility in this?  Why wouldn't I just use Rstudio?**\n",
    "\n",
    "If you thought this you might as well just stick to Rstudio because you're not imaginative enough to understand the potential here.\n",
    "\n",
    "We are able to apply any functions we want from two universes now, Python or R.  You can pick and choose your preferred tool from either universe, all without leaving the same Jupyter notebook.  That is something to be lauded.\n",
    "\n",
    "## Examples\n",
    "\n",
    "Do you like cleaning data with Python pandas and think dplyr is for chumps?  Easy, just keep using Pandas then, and pass cleaned data in-memory straight into R.\n",
    "\n",
    "Have you realized just how unreliable Scikit-learn's linear regression algorithms are?  No problem then, call R's functions to fit those lines instead!\n",
    "\n",
    "When you can code in multiple languages within the same notebook, the world becomes your oyster."
   ]
  },
  {
   "cell_type": "code",
   "execution_count": null,
   "metadata": {},
   "outputs": [],
   "source": []
  }
 ],
 "metadata": {
  "kernelspec": {
   "display_name": "Python 3",
   "language": "python",
   "name": "python3"
  },
  "language_info": {
   "codemirror_mode": {
    "name": "ipython",
    "version": 3
   },
   "file_extension": ".py",
   "mimetype": "text/x-python",
   "name": "python",
   "nbconvert_exporter": "python",
   "pygments_lexer": "ipython3",
   "version": "3.6.6"
  }
 },
 "nbformat": 4,
 "nbformat_minor": 2
}
