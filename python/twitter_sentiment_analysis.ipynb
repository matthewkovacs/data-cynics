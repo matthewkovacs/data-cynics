{
 "cells": [
  {
   "cell_type": "markdown",
   "metadata": {},
   "source": [
    "# Sentiment Analysis of Tweets using spaCy, VADER, and Scikit-Learn\n",
    "\n",
    "This notebook will showcase two approaches to conducting sentiment analysis in a natural language processing (NLP) pipeline.  \n",
    "\n",
    "Both approach will attempt to resolve tweets to a continuum of sentiment based on the content of each tweet.  The sentiment values produced could then further be classified into postive vs negative groups, which would be as simple as choosing an arbitrary threshold sentiment value (i.e. 0) and sorting each tweet into their respective bins.\n",
    "\n",
    "1. Lexicon Approach\n",
    "\n",
    "    - This approach will cross reference the salient words of each tweet against a lexicon that prescribes a sentiment valence value, which will be an integer value. \n",
    "    - These integer values will be summed for each tweet to compute its compound sentiment.\n",
    "    \n",
    "<br>\n",
    "\n",
    "2. Machine Learning Approach\n",
    "\n",
    " - The second approach will train a machine learning regression model after representing each tweet as a vector in some n-dimensional space.\n",
    " - Each tweet will be transformed into a sparse matrix within a high dimensional space so that they can be presented to our regression models as numbers.\n",
    "\n",
    "<br>\n",
    "\n",
    "All the code for this notebook will be in Python."
   ]
  },
  {
   "cell_type": "markdown",
   "metadata": {},
   "source": [
    "## 1. Setup\n",
    "\n",
    "We're going to write a tiny amount of functions ourselves, but mostly leverage functions from open-source packages.\n",
    "\n",
    "This part is really <font color=green>**import**</font>ant."
   ]
  },
  {
   "cell_type": "code",
   "execution_count": 2,
   "metadata": {},
   "outputs": [],
   "source": [
    "import spacy\n",
    "import pandas as pd\n",
    "import numpy as np\n",
    "import matplotlib.pyplot as plt\n",
    "\n",
    "from pathlib import Path\n",
    "from vaderSentiment.vaderSentiment import SentimentIntensityAnalyzer\n",
    "from matplotlib.colors import LinearSegmentedColormap, Normalize\n",
    "from sklearn.feature_extraction.text import CountVectorizer\n",
    "from sklearn.model_selection import train_test_split\n",
    "from sklearn.svm import LinearSVR\n",
    "from sklearn.metrics import mean_squared_error\n",
    "from sklearn.linear_model import SGDRegressor"
   ]
  },
  {
   "cell_type": "markdown",
   "metadata": {},
   "source": [
    "## 2. Read Datasets into Memory\n",
    "\n",
    "The target dataset of tweets we're interested in discerning the sentiment of will come from the *Sentiment140_test* set, available at the links here.\n",
    "([GitHub](https://github.com/rmaestre/Sentiwordnet-BC/blob/master/test/testdata.manual.2009.06.14.csv), [Kaggle](https://www.kaggle.com/pirateshadow/sentiment140-test))\n",
    "\n",
    "The machine learning training dataset we're going to use comes from the VADER package.  It is a list of tweet-like text with labelled sentiment values. ([GitHub](https://github.com/cjhutto/vaderSentiment#python-code-example))"
   ]
  },
  {
   "cell_type": "code",
   "execution_count": 4,
   "metadata": {},
   "outputs": [],
   "source": [
    "target_data_fpath = '~/Documents/datasets/nlp/testdata.manual.2009.06.14.csv'\n",
    "target_df = pd.read_csv(target_data_fpath, header=None)\n",
    "\n",
    "mltrain_fpath = '~/Documents/datasets/nlp/tweets_GroundTruth.txt'\n",
    "mltrain_df = pd.read_csv(mltrain_fpath, delimiter='\\t', \n",
    "                         engine='python', header=None,\n",
    "                         names = ['id', 'mean_sentiment_rating', 'tweet_text'])"
   ]
  },
  {
   "cell_type": "code",
   "execution_count": null,
   "metadata": {},
   "outputs": [],
   "source": []
  }
 ],
 "metadata": {
  "kernelspec": {
   "display_name": "Python 3",
   "language": "python",
   "name": "python3"
  },
  "language_info": {
   "codemirror_mode": {
    "name": "ipython",
    "version": 3
   },
   "file_extension": ".py",
   "mimetype": "text/x-python",
   "name": "python",
   "nbconvert_exporter": "python",
   "pygments_lexer": "ipython3",
   "version": "3.7.2"
  }
 },
 "nbformat": 4,
 "nbformat_minor": 2
}
