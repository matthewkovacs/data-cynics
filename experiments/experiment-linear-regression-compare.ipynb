{
 "cells": [
  {
   "cell_type": "markdown",
   "metadata": {},
   "source": [
    "# Experiment: Python vs R Linear Regression Comparison\n",
    "\n",
    "Is there a Difference between `scikit-learn`'s linear regression fit and R's `lm` fit?\n",
    "\n",
    "I heard there was, but in the spirit of being a good scientist I'll investigate the claim myself."
   ]
  },
  {
   "cell_type": "markdown",
   "metadata": {},
   "source": [
    "## 1. Import Packages and Define Functions\n",
    "\n",
    "This code section will initiliaze the tools that we will use to investigate this difference."
   ]
  },
  {
   "cell_type": "code",
   "execution_count": 1,
   "metadata": {},
   "outputs": [],
   "source": [
    "import rpy2\n",
    "import pandas as pd\n",
    "import numpy as np\n",
    "import seaborn as sns\n",
    "import matplotlib.pyplot as plt\n",
    "\n",
    "from sklearn.linear_model import LinearRegression\n",
    "from rpy2 import robjects\n",
    "from rpy2.robjects import pandas2ri\n",
    "from rpy2.robjects.packages import importr\n",
    "from multiprocessing import Process, Manager\n",
    "from psutil import cpu_count"
   ]
  },
  {
   "cell_type": "markdown",
   "metadata": {},
   "source": [
    "The `wakefield` package from R will be used to generate datasets that will serve as the training data for our regression models.  These datasets will be mock student grades, where the dependent variable will the be their third test grade."
   ]
  },
  {
   "cell_type": "code",
   "execution_count": 2,
   "metadata": {},
   "outputs": [
    {
     "data": {
      "text/plain": [
       "R object with classes: ('function',) mapped to:\n",
       "<SignatureTranslatedFunction - Python:0x7fbad78aa288 / R:0x560099cfa8a8>"
      ]
     },
     "execution_count": 2,
     "metadata": {},
     "output_type": "execute_result"
    }
   ],
   "source": [
    "wakefield = importr('wakefield')\n",
    "\n",
    "robjects.r('''\n",
    "    generate_dataset <- function(n) {\n",
    "        # This function generates a new dataset for students' grades.\n",
    "        #\n",
    "        # Args:\n",
    "        #    n: The number of observations in the resulting dataset\n",
    "        #\n",
    "        # Returns:\n",
    "        #    A tibble object for the newly generated dataset\n",
    "        \n",
    "        new_dataset <- wakefield::r_data_frame(n,\n",
    "                                               iq,\n",
    "                                               age(x = 14:19),\n",
    "                                               sex,\n",
    "                                               study_hrs = rnorm(mean = 3),\n",
    "                                               sat,\n",
    "                                               grade(name = 'grade1'),\n",
    "                                               grade(name = 'grade2'),\n",
    "                                               grade(name = 'grade3'))\n",
    "        return(new_dataset)\n",
    "    }\n",
    "    ''')"
   ]
  },
  {
   "cell_type": "markdown",
   "metadata": {},
   "source": [
    "The following functions will be used to conduct this experiment."
   ]
  },
  {
   "cell_type": "code",
   "execution_count": 3,
   "metadata": {},
   "outputs": [],
   "source": [
    "def convert_rpy2(dataframe):\n",
    "    '''Convert the R/rpy2 DataFrame to a full pandas dataframe.\n",
    "    \n",
    "    Args:\n",
    "        dataframe: The R/rpy2 Dataframe object.\n",
    "        \n",
    "    Returns:\n",
    "        The input dataframe as a pandas.core.frame.DataFrame object. \n",
    "        \n",
    "    '''\n",
    "    # Create a dictionary object for each column of the rpy2 dataframe\n",
    "    columns = list(dataframe.colnames)\n",
    "    data_values = {col:list(dataframe[i]) for i,col in enumerate(columns)}\n",
    "    \n",
    "    # Use the dictionary to create the pandas dataframe\n",
    "    result_df = pd.DataFrame.from_dict(data_values)\n",
    "    \n",
    "    # Re-label encode the values for the sex feature\n",
    "    # male: 0\n",
    "    # female: 1\n",
    "    result_df.Sex = result_df.Sex.map({2:1, 1:0})\n",
    "    \n",
    "    return result_df\n",
    "\n",
    "\n",
    "def R_fit_lm(dataframe):\n",
    "    '''Call the lm method in R to fit the training dataframe with a \n",
    "       linear regression model.\n",
    "       \n",
    "       Args:\n",
    "           dataframe: The training R/rpy2 Dataframe object\n",
    "       \n",
    "       Returns:\n",
    "           A tuple of the beta coefficients of the linear regression\n",
    "    '''\n",
    "    stats = importr('stats')\n",
    "    linreg = stats.lm('grade3 ~ .', data = dataframe)\n",
    "    \n",
    "    return tuple(linreg[0][1:])\n",
    "\n",
    "\n",
    "def py_fit_lm(dataframe):\n",
    "    '''Use scikit-learn's linear regression model to fit the data.\n",
    "    \n",
    "    Args:\n",
    "        dataframe: The training data that will be fit.\n",
    "    \n",
    "    Returns:\n",
    "        A tuple of the beta coefficients of the linear regression\n",
    "\n",
    "    '''\n",
    "    # Split the data into X and y subsets\n",
    "    X = dataframe.iloc[:, :-1].values\n",
    "    y = dataframe.iloc[:, 7:].values\n",
    "    \n",
    "    # Fit the data using the linear regression\n",
    "    linreg = LinearRegression()\n",
    "    linreg.fit(X, y)\n",
    "    \n",
    "    # Return the beta coefficients of the trained model\n",
    "    return tuple(linreg.coef_[0])\n",
    "\n",
    "\n",
    "def experiment(dataset_count, n_observations, results, pid):\n",
    "    '''This function encapsulates all the steps required to carry\n",
    "       out the experiment of testing the beta-coefficient differences\n",
    "       in the linear regression models created by scikit-learn and lm.\n",
    "       \n",
    "       Args:\n",
    "           dataset_count: The number of datasets to generate\n",
    "           n_observations: The number of observations in each dataset\n",
    "           results: The list to which the differences between \n",
    "                    beta-coefficients will be appended.\n",
    "           pid: The process id number\n",
    "      \n",
    "       Returns:\n",
    "           The input beta_coeff_diff array appended with the newly calculated\n",
    "           values gathered from the current experiment.\n",
    "           \n",
    "    '''\n",
    "    for _ in range(dataset_count):\n",
    "        # Generate a dataset with the desired number of observations\n",
    "        gendata = robjects.globalenv['generate_dataset']\n",
    "        df = gendata(n_observations)\n",
    "        \n",
    "        # Compute the beta-coefficients using each programming language\n",
    "        R_coefficients = R_fit_lm(df)\n",
    "        py_coefficients = py_fit_lm(convert_rpy2(df))\n",
    "\n",
    "        differences = np.subtract(R_coefficients, py_coefficients)\n",
    "        \n",
    "        # Collect all differences in beta-coefficient values\n",
    "        for coeff in differences:\n",
    "            results.append(coeff)"
   ]
  },
  {
   "cell_type": "markdown",
   "metadata": {},
   "source": [
    "## 2. Fit Many Linear Regressions\n",
    "\n",
    "We will generate a lot of datasets and for each one fit a linear regression model using both `scikit-learn` in Python and `lm` in R."
   ]
  },
  {
   "cell_type": "markdown",
   "metadata": {},
   "source": [
    "To help with compute times, these experiments will be run in parallel by utilizing multiprocessing."
   ]
  },
  {
   "cell_type": "code",
   "execution_count": 4,
   "metadata": {},
   "outputs": [],
   "source": [
    "# How many models should we fit?\n",
    "number_of_datasets = 300\n",
    "\n",
    "# Split model fitting workload across available CPU cores\n",
    "available_cores = cpu_count() - 1\n",
    "ds_per_process = int(number_of_datasets / available_cores)\n",
    "\n",
    "# Number of observations for each dataset\n",
    "n = 20200\n",
    "\n",
    "if __name__ == '__main__':\n",
    "    manager = Manager()\n",
    "    processes = []\n",
    "    # Create a list that will be shared between processes\n",
    "    results = manager.list()\n",
    "\n",
    "    # Initiliaze the processes with their assigned experiment tasks & parameters\n",
    "    for pid in range(available_cores):\n",
    "        # Run experiment on all processes\n",
    "        p = Process(target=experiment, args=(ds_per_process, n, results, pid))\n",
    "#             p = Process(target=testproc, args=(results, pid))\n",
    "        p.start()\n",
    "        processes.append(pid)\n",
    "\n",
    "    #print(processes)\n",
    "    # Aggregate the results from each process\n",
    "    for proc in processes:\n",
    "        p.join()"
   ]
  },
  {
   "cell_type": "markdown",
   "metadata": {},
   "source": [
    "By investigating the maximum beta coefficient difference value we can observe what the greatest discrepancy was between these programming approaches."
   ]
  },
  {
   "cell_type": "code",
   "execution_count": 5,
   "metadata": {},
   "outputs": [
    {
     "data": {
      "text/plain": [
       "2.0218202112509687e-15"
      ]
     },
     "execution_count": 5,
     "metadata": {},
     "output_type": "execute_result"
    }
   ],
   "source": [
    "max(results)"
   ]
  },
  {
   "cell_type": "markdown",
   "metadata": {},
   "source": [
    "The largest observed difference is on the $10^{-15}$ scale, which is very small."
   ]
  },
  {
   "cell_type": "markdown",
   "metadata": {},
   "source": [
    "## 3. Discuss Results\n",
    "\n",
    "The differences in beta coefficient values appear to be academic only.  In other words, our linear regression models from Python and R are in agreement.\n",
    "\n",
    "We can take a look at the distribution of beta coefficient differences collected from all our fit models."
   ]
  },
  {
   "cell_type": "code",
   "execution_count": 6,
   "metadata": {},
   "outputs": [
    {
     "data": {
      "image/png": "[encoded data removed]",
      "text/plain": [
       "<Figure size 720x576 with 1 Axes>"
      ]
     },
     "metadata": {},
     "output_type": "display_data"
    }
   ],
   "source": [
    "sns.set(color_codes=True)\n",
    "sns.set(rc={'figure.figsize':(10,8)})\n",
    "sns.distplot(results);"
   ]
  },
  {
   "cell_type": "markdown",
   "metadata": {},
   "source": [
    "Our results produce a markedly logistic distribution with a high degree of kurtosis.  However, it is important to note the scale.\n",
    "\n",
    "This histogram's plot is on the $10^{-15}$ scale.  This, in effect, means there is no difference between the linear models produced by Python or R."
   ]
  },
  {
   "cell_type": "markdown",
   "metadata": {},
   "source": [
    "## 4. Conclusion\n",
    "\n",
    "The results from this experiment are evidence to suggest that there is no effective difference between the linear regression model's produced by `scikit-learn` in Python or `lm` in R.  \n",
    "\n",
    "These results suggest that you can rest at ease when deciding which package/programming language to build your linear regression model in, because both `scikit-learn` and `lm` will give you the same thing.  Pick whichever language will make your life easier."
   ]
  },
  {
   "cell_type": "code",
   "execution_count": null,
   "metadata": {},
   "outputs": [],
   "source": []
  }
 ],
 "metadata": {
  "kernelspec": {
   "display_name": "Python 3",
   "language": "python",
   "name": "python3"
  },
  "language_info": {
   "codemirror_mode": {
    "name": "ipython",
    "version": 3
   },
   "file_extension": ".py",
   "mimetype": "text/x-python",
   "name": "python",
   "nbconvert_exporter": "python",
   "pygments_lexer": "ipython3",
   "version": "3.7.2"
  }
 },
 "nbformat": 4,
 "nbformat_minor": 2
}
