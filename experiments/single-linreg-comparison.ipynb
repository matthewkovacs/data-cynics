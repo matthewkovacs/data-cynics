{
 "cells": [
  {
   "cell_type": "markdown",
   "metadata": {},
   "source": [
    "# Comparing Linear Regression in R and Python\n",
    "\n",
    "Scikit-learn versus lm"
   ]
  },
  {
   "cell_type": "code",
   "execution_count": 1,
   "metadata": {},
   "outputs": [],
   "source": [
    "# No warnings please\n",
    "import warnings\n",
    "warnings.filterwarnings('ignore')"
   ]
  },
  {
   "cell_type": "markdown",
   "metadata": {},
   "source": [
    "## Python: Scikit-Learn\n",
    "\n",
    "The goal is to predict `grade3` using a linear regression"
   ]
  },
  {
   "cell_type": "code",
   "execution_count": 2,
   "metadata": {},
   "outputs": [],
   "source": [
    "import pandas as pd\n",
    "import numpy as np\n",
    "\n",
    "from sklearn.linear_model import LinearRegression\n",
    "from sklearn.preprocessing import LabelEncoder"
   ]
  },
  {
   "cell_type": "code",
   "execution_count": 3,
   "metadata": {},
   "outputs": [
    {
     "data": {
      "text/html": [
       "<div>\n",
       "<style scoped>\n",
       "    .dataframe tbody tr th:only-of-type {\n",
       "        vertical-align: middle;\n",
       "    }\n",
       "\n",
       "    .dataframe tbody tr th {\n",
       "        vertical-align: top;\n",
       "    }\n",
       "\n",
       "    .dataframe thead th {\n",
       "        text-align: right;\n",
       "    }\n",
       "</style>\n",
       "<table border=\"1\" class=\"dataframe\">\n",
       "  <thead>\n",
       "    <tr style=\"text-align: right;\">\n",
       "      <th></th>\n",
       "      <th>IQ</th>\n",
       "      <th>Age</th>\n",
       "      <th>Sex</th>\n",
       "      <th>study_hrs</th>\n",
       "      <th>SAT</th>\n",
       "      <th>grade1</th>\n",
       "      <th>grade2</th>\n",
       "      <th>grade3</th>\n",
       "    </tr>\n",
       "  </thead>\n",
       "  <tbody>\n",
       "    <tr>\n",
       "      <th>0</th>\n",
       "      <td>108</td>\n",
       "      <td>15</td>\n",
       "      <td>Female</td>\n",
       "      <td>3.454358</td>\n",
       "      <td>1516</td>\n",
       "      <td>89.2</td>\n",
       "      <td>84.9</td>\n",
       "      <td>89.3</td>\n",
       "    </tr>\n",
       "    <tr>\n",
       "      <th>1</th>\n",
       "      <td>101</td>\n",
       "      <td>16</td>\n",
       "      <td>Male</td>\n",
       "      <td>3.902377</td>\n",
       "      <td>1553</td>\n",
       "      <td>90.1</td>\n",
       "      <td>90.8</td>\n",
       "      <td>84.4</td>\n",
       "    </tr>\n",
       "    <tr>\n",
       "      <th>2</th>\n",
       "      <td>96</td>\n",
       "      <td>19</td>\n",
       "      <td>Female</td>\n",
       "      <td>2.022188</td>\n",
       "      <td>1480</td>\n",
       "      <td>88.5</td>\n",
       "      <td>86.6</td>\n",
       "      <td>84.8</td>\n",
       "    </tr>\n",
       "    <tr>\n",
       "      <th>3</th>\n",
       "      <td>96</td>\n",
       "      <td>14</td>\n",
       "      <td>Female</td>\n",
       "      <td>2.979890</td>\n",
       "      <td>1625</td>\n",
       "      <td>85.5</td>\n",
       "      <td>89.0</td>\n",
       "      <td>81.5</td>\n",
       "    </tr>\n",
       "    <tr>\n",
       "      <th>4</th>\n",
       "      <td>104</td>\n",
       "      <td>19</td>\n",
       "      <td>Female</td>\n",
       "      <td>4.833261</td>\n",
       "      <td>1426</td>\n",
       "      <td>88.8</td>\n",
       "      <td>86.8</td>\n",
       "      <td>84.8</td>\n",
       "    </tr>\n",
       "  </tbody>\n",
       "</table>\n",
       "</div>"
      ],
      "text/plain": [
       "    IQ  Age     Sex  study_hrs   SAT  grade1  grade2  grade3\n",
       "0  108   15  Female   3.454358  1516    89.2    84.9    89.3\n",
       "1  101   16    Male   3.902377  1553    90.1    90.8    84.4\n",
       "2   96   19  Female   2.022188  1480    88.5    86.6    84.8\n",
       "3   96   14  Female   2.979890  1625    85.5    89.0    81.5\n",
       "4  104   19  Female   4.833261  1426    88.8    86.8    84.8"
      ]
     },
     "execution_count": 3,
     "metadata": {},
     "output_type": "execute_result"
    }
   ],
   "source": [
    "raw_data = pd.read_csv('~/Documents/datasets/generated/cont/student-grades.csv')\n",
    "raw_data.drop('ID', axis=1, inplace=True)\n",
    "raw_data.head()"
   ]
  },
  {
   "cell_type": "markdown",
   "metadata": {},
   "source": [
    "Label encode the `Sex` feature"
   ]
  },
  {
   "cell_type": "code",
   "execution_count": 4,
   "metadata": {},
   "outputs": [],
   "source": [
    "# Create and fit the label encoder to the binary Sex feature\n",
    "enc = LabelEncoder()\n",
    "enc.fit([x for x in raw_data.Sex.value_counts().index])\n",
    "\n",
    "# Encode the values of the Sex feature within the dataset\n",
    "raw_data.Sex = enc.transform(raw_data.Sex)"
   ]
  },
  {
   "cell_type": "code",
   "execution_count": 5,
   "metadata": {},
   "outputs": [
    {
     "data": {
      "text/html": [
       "<div>\n",
       "<style scoped>\n",
       "    .dataframe tbody tr th:only-of-type {\n",
       "        vertical-align: middle;\n",
       "    }\n",
       "\n",
       "    .dataframe tbody tr th {\n",
       "        vertical-align: top;\n",
       "    }\n",
       "\n",
       "    .dataframe thead th {\n",
       "        text-align: right;\n",
       "    }\n",
       "</style>\n",
       "<table border=\"1\" class=\"dataframe\">\n",
       "  <thead>\n",
       "    <tr style=\"text-align: right;\">\n",
       "      <th></th>\n",
       "      <th>IQ</th>\n",
       "      <th>Age</th>\n",
       "      <th>Sex</th>\n",
       "      <th>study_hrs</th>\n",
       "      <th>SAT</th>\n",
       "      <th>grade1</th>\n",
       "      <th>grade2</th>\n",
       "      <th>grade3</th>\n",
       "    </tr>\n",
       "  </thead>\n",
       "  <tbody>\n",
       "    <tr>\n",
       "      <th>count</th>\n",
       "      <td>10000.000000</td>\n",
       "      <td>10000.000000</td>\n",
       "      <td>10000.000000</td>\n",
       "      <td>10000.000000</td>\n",
       "      <td>10000.000000</td>\n",
       "      <td>10000.000000</td>\n",
       "      <td>10000.000000</td>\n",
       "      <td>10000.000000</td>\n",
       "    </tr>\n",
       "    <tr>\n",
       "      <th>mean</th>\n",
       "      <td>100.011300</td>\n",
       "      <td>16.507500</td>\n",
       "      <td>0.516200</td>\n",
       "      <td>2.988733</td>\n",
       "      <td>1500.439200</td>\n",
       "      <td>87.986980</td>\n",
       "      <td>87.972410</td>\n",
       "      <td>87.889720</td>\n",
       "    </tr>\n",
       "    <tr>\n",
       "      <th>std</th>\n",
       "      <td>9.960778</td>\n",
       "      <td>1.707816</td>\n",
       "      <td>0.499762</td>\n",
       "      <td>0.995197</td>\n",
       "      <td>99.834457</td>\n",
       "      <td>4.021202</td>\n",
       "      <td>4.035037</td>\n",
       "      <td>3.971543</td>\n",
       "    </tr>\n",
       "    <tr>\n",
       "      <th>min</th>\n",
       "      <td>66.000000</td>\n",
       "      <td>14.000000</td>\n",
       "      <td>0.000000</td>\n",
       "      <td>-0.847397</td>\n",
       "      <td>1116.000000</td>\n",
       "      <td>73.400000</td>\n",
       "      <td>73.300000</td>\n",
       "      <td>71.900000</td>\n",
       "    </tr>\n",
       "    <tr>\n",
       "      <th>25%</th>\n",
       "      <td>93.000000</td>\n",
       "      <td>15.000000</td>\n",
       "      <td>0.000000</td>\n",
       "      <td>2.323830</td>\n",
       "      <td>1434.000000</td>\n",
       "      <td>85.300000</td>\n",
       "      <td>85.300000</td>\n",
       "      <td>85.200000</td>\n",
       "    </tr>\n",
       "    <tr>\n",
       "      <th>50%</th>\n",
       "      <td>100.000000</td>\n",
       "      <td>16.000000</td>\n",
       "      <td>1.000000</td>\n",
       "      <td>2.981550</td>\n",
       "      <td>1500.000000</td>\n",
       "      <td>88.000000</td>\n",
       "      <td>87.900000</td>\n",
       "      <td>87.900000</td>\n",
       "    </tr>\n",
       "    <tr>\n",
       "      <th>75%</th>\n",
       "      <td>107.000000</td>\n",
       "      <td>18.000000</td>\n",
       "      <td>1.000000</td>\n",
       "      <td>3.666447</td>\n",
       "      <td>1568.000000</td>\n",
       "      <td>90.700000</td>\n",
       "      <td>90.700000</td>\n",
       "      <td>90.600000</td>\n",
       "    </tr>\n",
       "    <tr>\n",
       "      <th>max</th>\n",
       "      <td>137.000000</td>\n",
       "      <td>19.000000</td>\n",
       "      <td>1.000000</td>\n",
       "      <td>6.540091</td>\n",
       "      <td>1871.000000</td>\n",
       "      <td>100.000000</td>\n",
       "      <td>100.000000</td>\n",
       "      <td>100.000000</td>\n",
       "    </tr>\n",
       "  </tbody>\n",
       "</table>\n",
       "</div>"
      ],
      "text/plain": [
       "                 IQ           Age           Sex     study_hrs           SAT  \\\n",
       "count  10000.000000  10000.000000  10000.000000  10000.000000  10000.000000   \n",
       "mean     100.011300     16.507500      0.516200      2.988733   1500.439200   \n",
       "std        9.960778      1.707816      0.499762      0.995197     99.834457   \n",
       "min       66.000000     14.000000      0.000000     -0.847397   1116.000000   \n",
       "25%       93.000000     15.000000      0.000000      2.323830   1434.000000   \n",
       "50%      100.000000     16.000000      1.000000      2.981550   1500.000000   \n",
       "75%      107.000000     18.000000      1.000000      3.666447   1568.000000   \n",
       "max      137.000000     19.000000      1.000000      6.540091   1871.000000   \n",
       "\n",
       "             grade1        grade2        grade3  \n",
       "count  10000.000000  10000.000000  10000.000000  \n",
       "mean      87.986980     87.972410     87.889720  \n",
       "std        4.021202      4.035037      3.971543  \n",
       "min       73.400000     73.300000     71.900000  \n",
       "25%       85.300000     85.300000     85.200000  \n",
       "50%       88.000000     87.900000     87.900000  \n",
       "75%       90.700000     90.700000     90.600000  \n",
       "max      100.000000    100.000000    100.000000  "
      ]
     },
     "execution_count": 5,
     "metadata": {},
     "output_type": "execute_result"
    }
   ],
   "source": [
    "raw_data.describe()"
   ]
  },
  {
   "cell_type": "markdown",
   "metadata": {},
   "source": [
    "Split into X and y components"
   ]
  },
  {
   "cell_type": "code",
   "execution_count": 6,
   "metadata": {},
   "outputs": [],
   "source": [
    "X = raw_data.iloc[:,:-1].values\n",
    "y = raw_data.iloc[:,7:].values"
   ]
  },
  {
   "cell_type": "markdown",
   "metadata": {},
   "source": [
    "Fit the linear regression model"
   ]
  },
  {
   "cell_type": "code",
   "execution_count": 14,
   "metadata": {},
   "outputs": [
    {
     "data": {
      "text/plain": [
       "(0.00011432789788459506,\n",
       " 0.014821301820488762,\n",
       " 0.06736104761973905,\n",
       " -0.01127881987272566,\n",
       " 7.01345762108771e-05,\n",
       " -0.010351427550158032,\n",
       " 0.008329558753014587)"
      ]
     },
     "execution_count": 14,
     "metadata": {},
     "output_type": "execute_result"
    }
   ],
   "source": [
    "lr = LinearRegression()\n",
    "lr.fit(X, y)\n",
    "tuple(lr.coef_[0])"
   ]
  },
  {
   "cell_type": "markdown",
   "metadata": {},
   "source": [
    "## R: Linear Models"
   ]
  },
  {
   "cell_type": "code",
   "execution_count": 8,
   "metadata": {},
   "outputs": [],
   "source": [
    "%load_ext rpy2.ipython"
   ]
  },
  {
   "cell_type": "code",
   "execution_count": 9,
   "metadata": {},
   "outputs": [
    {
     "data": {
      "text/plain": [
       "       IQ           Age             Sex           study_hrs      \n",
       " Min.   : 66   Min.   :14.00   Min.   :0.0000   Min.   :-0.8474  \n",
       " 1st Qu.: 93   1st Qu.:15.00   1st Qu.:0.0000   1st Qu.: 2.3238  \n",
       " Median :100   Median :16.00   Median :1.0000   Median : 2.9815  \n",
       " Mean   :100   Mean   :16.51   Mean   :0.5162   Mean   : 2.9887  \n",
       " 3rd Qu.:107   3rd Qu.:18.00   3rd Qu.:1.0000   3rd Qu.: 3.6664  \n",
       " Max.   :137   Max.   :19.00   Max.   :1.0000   Max.   : 6.5401  \n",
       "      SAT           grade1           grade2           grade3      \n",
       " Min.   :1116   Min.   : 73.40   Min.   : 73.30   Min.   : 71.90  \n",
       " 1st Qu.:1434   1st Qu.: 85.30   1st Qu.: 85.30   1st Qu.: 85.20  \n",
       " Median :1500   Median : 88.00   Median : 87.90   Median : 87.90  \n",
       " Mean   :1500   Mean   : 87.99   Mean   : 87.97   Mean   : 87.89  \n",
       " 3rd Qu.:1568   3rd Qu.: 90.70   3rd Qu.: 90.70   3rd Qu.: 90.60  \n",
       " Max.   :1871   Max.   :100.00   Max.   :100.00   Max.   :100.00  \n"
      ]
     },
     "metadata": {},
     "output_type": "display_data"
    }
   ],
   "source": [
    "%%R -i raw_data\n",
    "\n",
    "summary(raw_data)"
   ]
  },
  {
   "cell_type": "code",
   "execution_count": 10,
   "metadata": {},
   "outputs": [
    {
     "data": {
      "text/plain": [
       "                 Estimate   Std. Error     t value  Pr(>|t|)\n",
       "(Intercept)  8.770535e+01 1.4765762560 59.39777736 0.0000000\n",
       "IQ           1.143279e-04 0.0039905474  0.02864968 0.9771446\n",
       "Age          1.482130e-02 0.0232650243  0.63706367 0.5240980\n",
       "Sex          6.736105e-02 0.0795147159  0.84715196 0.3969307\n",
       "study_hrs   -1.127882e-02 0.0399338958 -0.28243725 0.7776141\n",
       "SAT          7.013458e-05 0.0003979806  0.17622610 0.8601199\n",
       "grade1      -1.035143e-02 0.0098834736 -1.04734711 0.2949648\n",
       "grade2       8.329559e-03 0.0098477248  0.84583585 0.3976646\n"
      ]
     },
     "metadata": {},
     "output_type": "display_data"
    }
   ],
   "source": [
    "%%R -o R_coeff\n",
    "\n",
    "linR <- lm(grade3 ~ .,\n",
    "           data = raw_data)\n",
    "R_coeff <- summary(linR)$coefficients\n",
    "R_coeff"
   ]
  },
  {
   "cell_type": "code",
   "execution_count": 11,
   "metadata": {},
   "outputs": [],
   "source": [
    "R_coeff = np.array([R_coeff[1:8]])"
   ]
  },
  {
   "cell_type": "code",
   "execution_count": 12,
   "metadata": {},
   "outputs": [
    {
     "name": "stdout",
     "output_type": "stream",
     "text": [
      "2.4708193080821442e-17\n"
     ]
    }
   ],
   "source": [
    "difference = np.subtract(lr.coef_, R_coeff)\n",
    "print(np.mean(difference))"
   ]
  },
  {
   "cell_type": "markdown",
   "metadata": {},
   "source": [
    "The difference is very small."
   ]
  },
  {
   "cell_type": "code",
   "execution_count": null,
   "metadata": {},
   "outputs": [],
   "source": []
  }
 ],
 "metadata": {
  "kernelspec": {
   "display_name": "Python 3",
   "language": "python",
   "name": "python3"
  },
  "language_info": {
   "codemirror_mode": {
    "name": "ipython",
    "version": 3
   },
   "file_extension": ".py",
   "mimetype": "text/x-python",
   "name": "python",
   "nbconvert_exporter": "python",
   "pygments_lexer": "ipython3",
   "version": "3.7.2"
  }
 },
 "nbformat": 4,
 "nbformat_minor": 2
}
